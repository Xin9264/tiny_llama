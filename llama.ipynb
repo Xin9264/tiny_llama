{
 "cells": [
  {
   "cell_type": "code",
   "execution_count": 1,
   "metadata": {},
   "outputs": [],
   "source": [
    "import torch\n",
    "from torch import nn\n",
    "import numpy as np\n",
    "from matplotlib import pyplot as plt\n",
    "import time\n",
    "import pandas as pd\n",
    "import torch.nn.functional as F\n"
   ]
  },
  {
   "cell_type": "code",
   "execution_count": 2,
   "metadata": {},
   "outputs": [
    {
     "data": {
      "text/plain": [
       "'cpu'"
      ]
     },
     "execution_count": 2,
     "metadata": {},
     "output_type": "execute_result"
    }
   ],
   "source": [
    "network_config = {}\n",
    "device = \"cuda\" if torch.cuda.is_available() else \"cpu\"\n",
    "device"
   ]
  },
  {
   "cell_type": "code",
   "execution_count": 3,
   "metadata": {},
   "outputs": [],
   "source": [
    "# implement a basic tokenizer from scratch (Anderj Karpathy's tutorial)\n",
    "class BasicTokenizer:\n",
    "    def __init__(self, vocab_size=300):\n",
    "        self.vocab = {}\n",
    "        self.merges = {}\n",
    "        self.vocab_size = vocab_size\n",
    "        # self.ids = []\n",
    "    def train(self, text, verbose=False):\n",
    "        tokens = self.read_file(text)\n",
    "        num_merge = self.vocab_size - 256\n",
    "        ids = tokens.copy()\n",
    "        for i in range(num_merge):\n",
    "            num_merge = 256 + i\n",
    "            stats = self.get_stats(ids)\n",
    "            top_pair = self.get_top_pair(stats)\n",
    "            if verbose:\n",
    "                print(f\"merging {top_pair} into {num_merge}\")\n",
    "            ids = self.merge(ids, top_pair, num_merge)\n",
    "            self.merges[top_pair] = num_merge\n",
    "        self.vocab = {idx: bytes([idx]) for idx in range(256)}\n",
    "        for (p1, p2), idx in self.merges.items():\n",
    "            self.vocab[idx] = self.vocab[p1] + self.vocab[p2]\n",
    "        # self.ids = ids\n",
    "        return ids\n",
    "    \n",
    "    def read_file(self, text):\n",
    "        tokens = text.encode(\"utf-8\")\n",
    "        tokens = list(map(int, tokens))\n",
    "        return tokens\n",
    "    def get_stats(self, tokens):\n",
    "        maps = {}\n",
    "        for p1, p2 in zip(tokens, tokens[1:]):\n",
    "            maps[(p1, p2)] = maps.get((p1, p2), 0) + 1\n",
    "        return maps\n",
    "    def get_top_pair(self, maps):\n",
    "        top_pair = max(maps, key=maps.get)\n",
    "        # self.merges.append(top_pair)\n",
    "        return top_pair\n",
    "    def merge(self, ids, top_pair, idx):\n",
    "        res = []\n",
    "        i = 0\n",
    "        p1, p2 = top_pair\n",
    "        while i < len(ids):\n",
    "            if i < len(ids) - 1 and ids[i] == p1 and ids[i+1] == p2:\n",
    "                self.merges[top_pair] = idx\n",
    "                res.append(idx)\n",
    "                i += 2\n",
    "            else:\n",
    "                res.append(ids[i])\n",
    "                i += 1\n",
    "        return res\n",
    "    def encode(self, text):\n",
    "        tokens = self.read_file(text)\n",
    "        ids = tokens.copy()\n",
    "        i = 0\n",
    "        res = []\n",
    "        while i < len(ids):\n",
    "            if i < len(ids) - 1 and (ids[i], ids[i+1]) in self.merges:\n",
    "                res.append(self.merges[(ids[i], ids[i+1])])\n",
    "                i+=2\n",
    "            else:\n",
    "                res.append(ids[i])\n",
    "                i+=1\n",
    "        return res\n",
    "    def decode(self, ids):\n",
    "        bytes_string = b\"\".join(self.vocab[idx] for idx in ids)\n",
    "        return bytes_string.decode(\"utf-8\", errors=\"replace\")\n",
    "    "
   ]
  },
  {
   "cell_type": "code",
   "execution_count": 4,
   "metadata": {},
   "outputs": [
    {
     "name": "stdout",
     "output_type": "stream",
     "text": [
      "True\n"
     ]
    }
   ],
   "source": [
    "tokenizer = BasicTokenizer()\n",
    "text = open(\"./data/books.txt\", \"r\", encoding=\"utf-8\").read()\n",
    "tokenizer.train(text)\n",
    "tokens = tokenizer.encode(text)\n",
    "# print(tokens)\n",
    "print(tokenizer.decode(tokens) == text)"
   ]
  },
  {
   "cell_type": "code",
   "execution_count": 5,
   "metadata": {},
   "outputs": [
    {
     "name": "stdout",
     "output_type": "stream",
     "text": [
      "[73, 32, 108, 118, 111, 256, 121, 265]\n"
     ]
    }
   ],
   "source": [
    "print(tokenizer.encode(\"I lvoe you\"))"
   ]
  },
  {
   "cell_type": "code",
   "execution_count": 6,
   "metadata": {},
   "outputs": [
    {
     "name": "stdout",
     "output_type": "stream",
     "text": [
      "torch.Size([584839]) torch.int64\n",
      "tensor([ 67, 264, 116,  ..., 101,  10,  46])\n"
     ]
    }
   ],
   "source": [
    "dataset = torch.tensor(tokens, dtype=torch.long).to(device)\n",
    "print(dataset.shape, dataset.dtype)\n",
    "\n",
    "print(dataset)"
   ]
  },
  {
   "cell_type": "code",
   "execution_count": 7,
   "metadata": {},
   "outputs": [],
   "source": [
    "def get_batch(dataset, batch_size, context_window, split=\"train\"):\n",
    "    indices = torch.randperm(len(dataset))\n",
    "    train_size = int(len(dataset) * 0.8)\n",
    "    val_size = int(len(dataset) * 0.1)\n",
    "    train_data = dataset[indices[:train_size]]\n",
    "    val_data = dataset[indices[train_size:train_size+val_size]]\n",
    "    test_data = dataset[indices[train_size+val_size:]]\n",
    "\n",
    "    # batch_data = train_data\n",
    "    if split == \"train\":\n",
    "        batch_data = train_data\n",
    "    elif split == \"val\":\n",
    "        batch_data = val_data\n",
    "    elif split == \"test\":\n",
    "        batch_data = test_data\n",
    "    ix = torch.randint(0, len(batch_data)-context_window, (batch_size, ))\n",
    "    x = torch.stack([batch_data[i:i+context_window] for i in ix])\n",
    "    y = torch.stack([batch_data[i+1:i+context_window+1] for i in ix])\n",
    "    x = x.to(device)\n",
    "    y = y.to(device)\n",
    "    return x, y"
   ]
  },
  {
   "cell_type": "code",
   "execution_count": 8,
   "metadata": {},
   "outputs": [],
   "source": [
    "network_config.update({\n",
    "    'batch_size': 16,\n",
    "    'context_window': 16,\n",
    "})\n"
   ]
  },
  {
   "cell_type": "code",
   "execution_count": 9,
   "metadata": {},
   "outputs": [
    {
     "name": "stdout",
     "output_type": "stream",
     "text": [
      "[('su us ay allal  ke e y', 'u us ay allal  ke e y w'), ('gouthqrre�din�oepnao', 'outhqrre�din�oepnaoe '), ('orstf. romti s mod . gth', 'stf. romti s mod . gtht'), ('vogaer ty affwttc0', 'ogaer ty affwttc0on'), ('se]e p e kin!e d saper', 'e]e p e kin!e d sapera'), (' tgtl huago enAu ahin', 'gtl huago enAu ahinat'), ('esal ouRo,  y uinb .er�', 'al ouRo,  y uinb .er�k'), ('chang� hl6e pe vs gy e', 'ang� hl6e pe vs gy ee '), ('t of al8cini this etped', 'of al8cini this etpedor'), ('� fr ofwlwatIvd per ', ' fr ofwlwatIvd per e'), ('hWoof0guk 4a afesd 3', 'Woof0guk 4a afesd 3p'), ('inbor reeereba wtthuo', 'bor reeereba wtthuo�'), ('efals ins jouetenorep.ha', 'fals ins jouetenorep.had '), ('haanspomd, oAle naue ', 'anspomd, oAle naue ar'), ('ma�3pr\\nof tiop melan', 'a�3pr\\nof tiop melanU'), ('aashpwieranrelfi7ry', 'ashpwieranrelfi7ryth')]\n"
     ]
    }
   ],
   "source": [
    "xs, ys = get_batch(dataset, **network_config)\n",
    "test_data = [(tokenizer.decode(xs[i].tolist()), tokenizer.decode(ys[i].tolist())) for i in range(len(xs))]\n",
    "print(test_data)\n"
   ]
  },
  {
   "cell_type": "code",
   "execution_count": 10,
   "metadata": {},
   "outputs": [],
   "source": [
    "def get_loss(model, network_config):\n",
    "    out = {}\n",
    "    model.eval()\n",
    "    for split in [\"train\", \"val\"]:\n",
    "        losses = []\n",
    "        for _ in range(10):\n",
    "            x, y = get_batch(dataset, **network_config, split=split)\n",
    "            _, loss = model(x, y)\n",
    "            losses.append(loss.item())\n",
    "        out[split] = np.mean(losses)\n",
    "    model.train()\n",
    "    return out"
   ]
  },
  {
   "cell_type": "code",
   "execution_count": 11,
   "metadata": {},
   "outputs": [],
   "source": [
    "class MLP(nn.Module):\n",
    "    def __init__(self, vocab_size, embed_dim):\n",
    "        super().__init__()\n",
    "        self.vocab_size = vocab_size\n",
    "        self.embed_dim = embed_dim\n",
    "        self.embedding = nn.Embedding(self.vocab_size, self.embed_dim)\n",
    "        self.linear1 = nn.Linear(self.embed_dim, self.embed_dim)\n",
    "        self.relu = nn.ReLU()\n",
    "        self.linear2 = nn.Linear(self.embed_dim, self.vocab_size)\n",
    "        print(f\"#params: {sum(p.numel() for p in self.parameters())}\")\n",
    "\n",
    "    def forward(self, x, target=None):\n",
    "        B, T = x.shape\n",
    "        x = self.embedding(x)\n",
    "        x = self.linear1(x)\n",
    "        x = self.relu(x)\n",
    "        logits = self.linear2(x)\n",
    "        if target is not None:\n",
    "            loss = nn.CrossEntropyLoss()(logits.view(-1, logits.size(-1)), target.view(-1))\n",
    "            return logits, loss\n",
    "        return logits\n"
   ]
  },
  {
   "cell_type": "code",
   "execution_count": 12,
   "metadata": {},
   "outputs": [
    {
     "name": "stdout",
     "output_type": "stream",
     "text": [
      "#params: 93612\n"
     ]
    }
   ],
   "source": [
    "model = MLP(tokenizer.vocab_size, 128).to(device)\n",
    "optimizer = torch.optim.Adam(model.parameters(), lr=1e-4)"
   ]
  },
  {
   "cell_type": "code",
   "execution_count": 233,
   "metadata": {},
   "outputs": [],
   "source": [
    "def train(model, optimizer, network_config, epoch=100, verbose=False):\n",
    "    losses = []\n",
    "    val_losses = []\n",
    "    start = time.time()\n",
    "    for i in range(epoch):\n",
    "        x, y = get_batch(dataset, **network_config)\n",
    "        out, loss = model(x, y)\n",
    "        optimizer.zero_grad()\n",
    "        loss.backward()\n",
    "        optimizer.step()\n",
    "        # losses.append(loss.item())\n",
    "        # if verbose:\n",
    "        if i % 100 == 0:\n",
    "            losses.append(loss.item())\n",
    "            with torch.no_grad():\n",
    "                x_val, y_val = get_batch(dataset, **network_config, split=\"val\")\n",
    "                out_val, loss_val = model(x_val, y_val)\n",
    "                val_losses.append(loss_val.item())\n",
    "                if verbose:\n",
    "                    print(f\"epoch {i} loss: {loss.item()}\")\n",
    "                    print(f\"val loss: {loss_val.item()}\")\n",
    "\n",
    "    print(f\"train time: {time.time() - start}\")\n",
    "    print(f\"train loss: {np.mean(loss.item())}\")\n",
    "    return losses, val_losses\n",
    "\n",
    "\n"
   ]
  },
  {
   "cell_type": "code",
   "execution_count": 234,
   "metadata": {},
   "outputs": [
    {
     "name": "stdout",
     "output_type": "stream",
     "text": [
      "train time: 31.348471641540527\n",
      "train loss: 2.9392731189727783\n"
     ]
    }
   ],
   "source": [
    "train_loss, val_losses = train(model, optimizer, network_config, epoch=10000, verbose=False)\n"
   ]
  },
  {
   "cell_type": "code",
   "execution_count": 235,
   "metadata": {},
   "outputs": [
    {
     "data": {
      "image/png": "[encoded data removed]",
      "text/plain": [
       "<Figure size 640x480 with 1 Axes>"
      ]
     },
     "metadata": {},
     "output_type": "display_data"
    }
   ],
   "source": [
    "plt.plot(train_loss, label=\"train loss\")\n",
    "plt.plot(val_losses, label=\"val loss\")\n",
    "plt.legend()\n",
    "plt.show()"
   ]
  },
  {
   "cell_type": "code",
   "execution_count": 236,
   "metadata": {},
   "outputs": [
    {
     "name": "stdout",
     "output_type": "stream",
     "text": [
      "\u0000\u0000\u0000\u0000\u0000\u0000\u0000\u0000\u0000\u0000\u0000\u0000\u0000\u0000\u0000\u0000 and to er. Weey—“ing it!’t yousom_).—ys bedenshere fwas aing HOBs h nis, Farchene\n",
      "burneralf I kinto ht you—T.\n",
      "\n",
      "IAuries m. NE\n"
     ]
    }
   ],
   "source": [
    "def generate(model, network_config, tokenizer, context_window=16, max_tokens=100):\n",
    "    model.eval()\n",
    "    idx = torch.zeros((1, context_window), dtype=torch.long).to(device)\n",
    "    for _ in range(max_tokens):\n",
    "        out = model(idx)\n",
    "        # 只保留最后一个时间步的输出，因为我们只需要预测下一个token\n",
    "        # shape: (batch_size, seq_len, vocab_size) -> (batch_size, vocab_size)\n",
    "        # 取输出的最后一个时间步的预测结果\n",
    "        # 输入形状: (batch_size, sequence_len, vocab_size)\n",
    "        # 输出形状: (batch_size, vocab_size)\n",
    "        # 例如输入是[0,0,0,...,0], 输出预测下一个token [0,0,0,...,1]\n",
    "        # 我们只需要最后一个时间步的预测,即最后预测出的token\n",
    "        out = out[:, -1, :]\n",
    "        # 将输出转换为概率分布，使用softmax将logits转换为概率值\n",
    "        probs = torch.softmax(out, dim=-1)\n",
    "        # 根据概率分布随机采样下一个token的索引，num_samples=1表示只采样一个token\n",
    "        idx_next = torch.multinomial(probs, num_samples=1)\n",
    "        # 将新预测的token添加到idx中，用于下一次预测\n",
    "        idx = torch.cat((idx, idx_next), dim=-1)\n",
    "    return tokenizer.decode(idx.squeeze().tolist())\n",
    "\n",
    "print(generate(model, network_config, tokenizer))"
   ]
  },
  {
   "cell_type": "markdown",
   "metadata": {},
   "source": [
    "RMSNorm part"
   ]
  },
  {
   "cell_type": "code",
   "execution_count": 26,
   "metadata": {},
   "outputs": [],
   "source": [
    "class RMSNorm(nn.Module):\n",
    "    def __init__(self, dim, eps, partial=-1):\n",
    "        super().__init__()\n",
    "        self.scale = nn.Parameter(torch.ones(dim))\n",
    "        self.eps = eps\n",
    "        self.partial = partial\n",
    "\n",
    "    def forward(self, x):\n",
    "        origin_shape = x.shape\n",
    "        x = x.view(-1, x.shape[-1])\n",
    "        if 1 >= self.partial > 0:\n",
    "            partial_size = int(self.partial * x.shape[-1])\n",
    "            mask = torch.rand(x.shape[-1]) < self.partial # random select index\n",
    "            x_partial = x[:, mask] # select partial index\n",
    "            rms = torch.sqrt(x_partial.pow(2).mean(dim=-1, keepdim=True) + self.eps)\n",
    "        else:\n",
    "            rms = torch.sqrt(x.pow(2).mean(dim=-1, keepdim=True) + self.eps)\n",
    "        \n",
    "        x_normalized = x / rms\n",
    "        x_scaled = x_normalized * self.scale\n",
    "        return x_scaled.view(origin_shape)\n"
   ]
  },
  {
   "cell_type": "code",
   "execution_count": 238,
   "metadata": {},
   "outputs": [],
   "source": [
    "class MLP_rms(nn.Module):\n",
    "    def __init__(self, network_config, vocab_size, embed_dim):\n",
    "        super().__init__()\n",
    "        self.network_config = network_config\n",
    "        self.vocab_size = vocab_size\n",
    "        self.embed_dim = embed_dim\n",
    "        self.embedding = nn.Embedding(self.vocab_size, self.embed_dim)\n",
    "        self.rms = RMSNorm(self.embed_dim, eps=1e-5)\n",
    "        self.linear = nn.Sequential(\n",
    "            nn.Linear(self.embed_dim, self.embed_dim),\n",
    "            nn.ReLU(),\n",
    "            nn.Linear(self.embed_dim, self.vocab_size)\n",
    "        )\n",
    "        print(f\"#params: {sum(p.numel() for p in self.parameters())}\")\n",
    "\n",
    "    def forward(self, x, target=None):\n",
    "        x = self.embedding(x)\n",
    "        x = self.rms(x)\n",
    "        logits = self.linear(x)\n",
    "        if target is not None:\n",
    "            loss = nn.CrossEntropyLoss()(logits.view(-1, logits.shape[-1]), target.view(-1))\n",
    "            return logits, loss\n",
    "        return logits\n"
   ]
  },
  {
   "cell_type": "code",
   "execution_count": 239,
   "metadata": {},
   "outputs": [
    {
     "name": "stdout",
     "output_type": "stream",
     "text": [
      "#params: 93740\n",
      "train time: 47.326342821121216\n",
      "train loss: 2.8428378105163574\n"
     ]
    }
   ],
   "source": [
    "model = MLP_rms(network_config, tokenizer.vocab_size, 128).to(device)\n",
    "optimizer = torch.optim.Adam(model.parameters(), lr=1e-4)\n",
    "train_loss, val_loss = train(model, optimizer, network_config, epoch=10000, verbose=False)"
   ]
  },
  {
   "cell_type": "code",
   "execution_count": 240,
   "metadata": {},
   "outputs": [
    {
     "data": {
      "image/png": "[encoded data removed]",
      "text/plain": [
       "<Figure size 640x480 with 1 Axes>"
      ]
     },
     "metadata": {},
     "output_type": "display_data"
    }
   ],
   "source": [
    "plt.plot(train_loss, label=\"train loss\")\n",
    "plt.plot(val_loss, label=\"val loss\")\n",
    "plt.legend()\n",
    "plt.show()\n"
   ]
  },
  {
   "cell_type": "markdown",
   "metadata": {},
   "source": [
    "RoPE part"
   ]
  },
  {
   "cell_type": "code",
   "execution_count": 19,
   "metadata": {},
   "outputs": [],
   "source": [
    "class RoPE(nn.Module):\n",
    "    def __init__(self, dim, base=10000):\n",
    "        super().__init__()\n",
    "        self.dim = dim\n",
    "        self.base = base\n",
    "        inv_freq = 1.0 / (base**(torch.arange(0, dim, 2).float() / dim))\n",
    "        self.register_buffer(\"inv_freq\", inv_freq)\n",
    "\n",
    "    def forward(self, x):\n",
    "    # x: [batch_size, num_heads, seq_len, head_dim]\n",
    "    # head_dim 必须是偶数\n",
    "    # 1. 计算旋转所需的角度（只算一半的维度）\n",
    "    #    假设 inv_freq 的形状是 [head_dim/2]\n",
    "        seq_len = x.shape[2]\n",
    "        pos = torch.arange(seq_len, device=x.device)                 # [seq_len]\n",
    "        angles = pos[:, None] * self.inv_freq[None, :]               # [seq_len, head_dim/2]\n",
    "\n",
    "        # 2. 得到对应的 sin, cos，并加上 batch/head 维做广播\n",
    "        sin = angles.sin()[None, None, :, :]  # [1,1,seq_len,head_dim/2]\n",
    "        cos = angles.cos()[None, None, :, :]\n",
    "\n",
    "        # 3. 将输入拆成两部分，分别乘以 cos 和 sin 来做旋转\n",
    "        x1, x2 = x.chunk(2, dim=-1)  # x1,x2: [batch_size, num_heads, seq_len, head_dim/2]\n",
    "        out = torch.cat([x1*cos - x2*sin, x2*cos + x1*sin], dim=-1)  # [batch_size, num_heads, seq_len, head_dim]\n",
    "\n",
    "        return out\n"
   ]
  },
  {
   "cell_type": "code",
   "execution_count": 20,
   "metadata": {},
   "outputs": [
    {
     "name": "stdout",
     "output_type": "stream",
     "text": [
      "torch.Size([1, 8, 16, 128])\n"
     ]
    }
   ],
   "source": [
    "rope = RoPE(128, base=1000).to(device)\n",
    "x = torch.randn(1, 8, 16, 128).to(device)\n",
    "x_rot = rope(x)\n",
    "print(x_rot.shape)"
   ]
  },
  {
   "cell_type": "code",
   "execution_count": 27,
   "metadata": {},
   "outputs": [],
   "source": [
    "import math\n",
    "class RoPeMultiHeadAttention(nn.Module):\n",
    "    def __init__(self, network_config, embed_dim, num_heads):\n",
    "        super().__init__()\n",
    "        self.network_config = network_config\n",
    "        self.embed_dim = embed_dim\n",
    "        self.num_heads = num_heads\n",
    "        self.head_dim = embed_dim // num_heads\n",
    "        assert self.head_dim * num_heads == embed_dim\n",
    "        self.wq = nn.Linear(embed_dim, embed_dim)\n",
    "        self.wk = nn.Linear(embed_dim, embed_dim)\n",
    "        self.wv = nn.Linear(embed_dim, embed_dim)\n",
    "        self.wo = nn.Linear(embed_dim, embed_dim)\n",
    "        self.rope = RoPE(self.head_dim, base=10000)\n",
    "\n",
    "    def get_causal_mask(self, seq_len, device):\n",
    "        mask = torch.ones((seq_len, seq_len), device=device).tril()\n",
    "        mask = mask.log()\n",
    "        return mask\n",
    "        \n",
    "    def forward(self, x):\n",
    "        B, T, C = x.shape\n",
    "        \n",
    "        # 线性变换并分头\n",
    "        q = self.wq(x).view(B, T, self.num_heads, self.head_dim).transpose(1, 2)\n",
    "        k = self.wk(x).view(B, T, self.num_heads, self.head_dim).transpose(1, 2)\n",
    "        v = self.wv(x).view(B, T, self.num_heads, self.head_dim).transpose(1, 2)\n",
    "        \n",
    "        # 应用RoPE编码\n",
    "        q = self.rope(q)\n",
    "        k = self.rope(k)\n",
    "        \n",
    "        # 计算注意力分数\n",
    "        scale = 1.0 / math.sqrt(self.head_dim)\n",
    "        attn = torch.matmul(q, k.transpose(-2, -1)) * scale  # [B, nh, T, T]\n",
    "        \n",
    "        # 应用因果掩码\n",
    "        causal_mask = self.get_causal_mask(T, x.device)\n",
    "        causal_mask = causal_mask.unsqueeze(0).unsqueeze(0)  # [1, 1, T, T]\n",
    "        \n",
    "        # 将掩码加到注意力分数上（不使用masked_fill）\n",
    "        attn = attn + causal_mask\n",
    "        \n",
    "        # 应用softmax\n",
    "        attn = F.softmax(attn, dim=-1)\n",
    "        \n",
    "        # 计算输出\n",
    "        out = torch.matmul(attn, v)  # [B, nh, T, T] x [B, nh, T, hd] -> [B, nh, T, hd]\n",
    "        out = out.transpose(1, 2).contiguous().view(B, T, C)\n",
    "        out = self.wo(out)\n",
    "        \n",
    "        return out\n"
   ]
  },
  {
   "cell_type": "code",
   "execution_count": 28,
   "metadata": {},
   "outputs": [],
   "source": [
    "class RopeModel(nn.Module):\n",
    "    def __init__(self, network_config, vocab_size, embed_dim, num_heads):\n",
    "        super().__init__()\n",
    "        self.network_config = network_config\n",
    "        self.vocab_size = vocab_size\n",
    "        self.embed_dim = embed_dim\n",
    "        self.num_heads = num_heads\n",
    "        self.embedding = nn.Embedding(vocab_size, embed_dim)\n",
    "        self.mha = RoPeMultiHeadAttention(network_config, embed_dim, num_heads)\n",
    "        self.rms1 = RMSNorm(embed_dim, eps=1e-5)\n",
    "        self.rms2 = RMSNorm(embed_dim, eps=1e-5)\n",
    "        self.linear = nn.Sequential(\n",
    "            nn.Linear(embed_dim, embed_dim),\n",
    "            nn.ReLU()\n",
    "        )\n",
    "        self.lm_head = nn.Linear(embed_dim, vocab_size)\n",
    "        print(f\"#params: {sum(p.numel() for p in self.parameters())}\")\n",
    "    def forward(self, x, target=None):\n",
    "        x = self.embedding(x)\n",
    "        x = self.rms1(x)\n",
    "        x = x + self.mha(x)\n",
    "        x = self.rms2(x)\n",
    "        x = x + self.linear(x)\n",
    "        logits = self.lm_head(x)\n",
    "        if target is not None:\n",
    "            loss = nn.CrossEntropyLoss()(logits.view(-1, logits.size(-1)), target.view(-1))\n",
    "            return logits, loss\n",
    "        return logits\n"
   ]
  },
  {
   "cell_type": "code",
   "execution_count": 29,
   "metadata": {},
   "outputs": [
    {
     "name": "stdout",
     "output_type": "stream",
     "text": [
      "#params: 159916\n"
     ]
    },
    {
     "ename": "NameError",
     "evalue": "name 'train' is not defined",
     "output_type": "error",
     "traceback": [
      "\u001b[0;31m---------------------------------------------------------------------------\u001b[0m",
      "\u001b[0;31mNameError\u001b[0m                                 Traceback (most recent call last)",
      "Cell \u001b[0;32mIn[29], line 3\u001b[0m\n\u001b[1;32m      1\u001b[0m model \u001b[38;5;241m=\u001b[39m Llamablock(network_config, tokenizer\u001b[38;5;241m.\u001b[39mvocab_size, \u001b[38;5;241m128\u001b[39m, \u001b[38;5;241m8\u001b[39m)\u001b[38;5;241m.\u001b[39mto(device)\n\u001b[1;32m      2\u001b[0m optimizer \u001b[38;5;241m=\u001b[39m torch\u001b[38;5;241m.\u001b[39moptim\u001b[38;5;241m.\u001b[39mAdam(model\u001b[38;5;241m.\u001b[39mparameters(), lr\u001b[38;5;241m=\u001b[39m\u001b[38;5;241m1e-4\u001b[39m)\n\u001b[0;32m----> 3\u001b[0m train_loss, val_loss \u001b[38;5;241m=\u001b[39m \u001b[43mtrain\u001b[49m(model, optimizer, network_config, epoch\u001b[38;5;241m=\u001b[39m\u001b[38;5;241m10000\u001b[39m, verbose\u001b[38;5;241m=\u001b[39m\u001b[38;5;28;01mTrue\u001b[39;00m)\n\u001b[1;32m      4\u001b[0m plt\u001b[38;5;241m.\u001b[39mplot(train_loss, label\u001b[38;5;241m=\u001b[39m\u001b[38;5;124m\"\u001b[39m\u001b[38;5;124mtrain loss\u001b[39m\u001b[38;5;124m\"\u001b[39m)\n\u001b[1;32m      5\u001b[0m plt\u001b[38;5;241m.\u001b[39mplot(val_loss, label\u001b[38;5;241m=\u001b[39m\u001b[38;5;124m\"\u001b[39m\u001b[38;5;124mval loss\u001b[39m\u001b[38;5;124m\"\u001b[39m)\n",
      "\u001b[0;31mNameError\u001b[0m: name 'train' is not defined"
     ]
    }
   ],
   "source": [
    "model = Llamablock(network_config, tokenizer.vocab_size, 128, 8).to(device)\n",
    "optimizer = torch.optim.Adam(model.parameters(), lr=1e-4)\n",
    "train_loss, val_loss = train(model, optimizer, network_config, epoch=10000, verbose=True)\n",
    "plt.plot(train_loss, label=\"train loss\")\n",
    "plt.plot(val_loss, label=\"val loss\")\n",
    "plt.legend()\n",
    "plt.show()\n"
   ]
  },
  {
   "cell_type": "markdown",
   "metadata": {},
   "source": [
    "SwiGLU Part"
   ]
  },
  {
   "cell_type": "code",
   "execution_count": 30,
   "metadata": {},
   "outputs": [],
   "source": [
    "class SwiGLU(nn.Module):\n",
    "    def __init__(self, in_features, hidden_features):\n",
    "        super().__init__()\n",
    "        hidden_features = hidden_features or in_features * 2\n",
    "        self.w1 = nn.Linear(in_features, hidden_features)\n",
    "        self.w2 = nn.Linear(in_features, hidden_features)\n",
    "        self.proj = nn.Linear(hidden_features, in_features)\n",
    "\n",
    "    def forward(self, x):\n",
    "        gate = self.w1(x)\n",
    "        value = self.w2(x)\n",
    "        gate_activated = F.silu(gate)\n",
    "        gate_value = gate_activated * value\n",
    "        return self.proj(gate_value)\n"
   ]
  },
  {
   "cell_type": "code",
   "execution_count": 31,
   "metadata": {},
   "outputs": [],
   "source": [
    "class RopeModel(nn.Module):\n",
    "    def __init__(self, network_config, vocab_size, embed_dim, num_heads):\n",
    "        super().__init__()\n",
    "        self.network_config = network_config\n",
    "        self.vocab_size = vocab_size\n",
    "        self.embed_dim = embed_dim\n",
    "        self.num_heads = num_heads\n",
    "        self.embedding = nn.Embedding(vocab_size, embed_dim)\n",
    "        self.mha = RoPeMultiHeadAttention(network_config, embed_dim, num_heads)\n",
    "        self.rms1 = RMSNorm(embed_dim, eps=1e-5)\n",
    "        self.rms2 = RMSNorm(embed_dim, eps=1e-5)\n",
    "        self.linear = nn.Sequential(\n",
    "            nn.Linear(embed_dim, embed_dim),\n",
    "            SwiGLU(embed_dim, embed_dim * 4) # change relu to swiglu\n",
    "        )\n",
    "        self.lm_head = nn.Linear(embed_dim, vocab_size)\n",
    "        print(f\"#params: {sum(p.numel() for p in self.parameters())}\")\n",
    "    def forward(self, x, target=None):\n",
    "        x = self.embedding(x)\n",
    "        x = self.rms1(x)\n",
    "        x = x + self.mha(x)\n",
    "        x = self.rms2(x)\n",
    "        x = x + self.linear(x)\n",
    "        logits = self.lm_head(x)\n",
    "        if target is not None:\n",
    "            loss = nn.CrossEntropyLoss()(logits.view(-1, logits.size(-1)), target.view(-1))\n",
    "            return logits, loss\n",
    "        return logits\n"
   ]
  },
  {
   "cell_type": "code",
   "execution_count": null,
   "metadata": {},
   "outputs": [
    {
     "name": "stdout",
     "output_type": "stream",
     "text": [
      "#params: 357676\n"
     ]
    },
    {
     "ename": "NameError",
     "evalue": "name 'train' is not defined",
     "output_type": "error",
     "traceback": [
      "\u001b[0;31m---------------------------------------------------------------------------\u001b[0m",
      "\u001b[0;31mNameError\u001b[0m                                 Traceback (most recent call last)",
      "Cell \u001b[0;32mIn[32], line 3\u001b[0m\n\u001b[1;32m      1\u001b[0m model \u001b[38;5;241m=\u001b[39m LlamaBlock(network_config, tokenizer\u001b[38;5;241m.\u001b[39mvocab_size, \u001b[38;5;241m128\u001b[39m, \u001b[38;5;241m8\u001b[39m)\u001b[38;5;241m.\u001b[39mto(device)\n\u001b[1;32m      2\u001b[0m optimizer \u001b[38;5;241m=\u001b[39m torch\u001b[38;5;241m.\u001b[39moptim\u001b[38;5;241m.\u001b[39mAdam(model\u001b[38;5;241m.\u001b[39mparameters(), lr\u001b[38;5;241m=\u001b[39m\u001b[38;5;241m1e-4\u001b[39m)\n\u001b[0;32m----> 3\u001b[0m train_loss, val_loss \u001b[38;5;241m=\u001b[39m \u001b[43mtrain\u001b[49m(model, optimizer, network_config, epoch\u001b[38;5;241m=\u001b[39m\u001b[38;5;241m10000\u001b[39m, verbose\u001b[38;5;241m=\u001b[39m\u001b[38;5;28;01mTrue\u001b[39;00m)\n\u001b[1;32m      4\u001b[0m plt\u001b[38;5;241m.\u001b[39mplot(train_loss, label\u001b[38;5;241m=\u001b[39m\u001b[38;5;124m\"\u001b[39m\u001b[38;5;124mtrain loss\u001b[39m\u001b[38;5;124m\"\u001b[39m)\n\u001b[1;32m      5\u001b[0m plt\u001b[38;5;241m.\u001b[39mplot(val_loss, label\u001b[38;5;241m=\u001b[39m\u001b[38;5;124m\"\u001b[39m\u001b[38;5;124mval loss\u001b[39m\u001b[38;5;124m\"\u001b[39m)\n",
      "\u001b[0;31mNameError\u001b[0m: name 'train' is not defined"
     ]
    }
   ],
   "source": [
    "model = RopeModel(network_config, tokenizer.vocab_size, 128, 8).to(device)\n",
    "optimizer = torch.optim.Adam(model.parameters(), lr=1e-4)\n",
    "train_loss, val_loss = train(model, optimizer, network_config, epoch=10000, verbose=True)\n",
    "plt.plot(train_loss, label=\"train loss\")\n",
    "plt.plot(val_loss, label=\"val loss\")\n",
    "plt.legend()\n",
    "plt.show()\n"
   ]
  },
  {
   "cell_type": "code",
   "execution_count": 249,
   "metadata": {},
   "outputs": [],
   "source": [
    "class LlamaBlock(nn.Module):\n",
    "    def __init__(self, network_config, embed_dim, num_heads):\n",
    "        super().__init__()\n",
    "        self.network_config = network_config\n",
    "        self.rms1 = RMSNorm(embed_dim, eps=1e-5)\n",
    "        self.mha = RoPeMultiHeadAttention(network_config, embed_dim, num_heads)\n",
    "        self.feedforward = nn.Sequential(\n",
    "            nn.Linear(embed_dim, embed_dim * 2),\n",
    "            SwiGLU(embed_dim*2, embed_dim * 4),\n",
    "            nn.Linear(embed_dim * 2, embed_dim)\n",
    "        )\n",
    "        self.rms2 = RMSNorm(embed_dim, eps=1e-5)\n",
    "        print(f\"#params: {sum(p.numel() for p in self.parameters())}\")\n",
    "    def forward(self, x):\n",
    "        x = self.rms1(x)\n",
    "        x = x + self.mha(x)\n",
    "        x = self.rms2(x)\n",
    "        x = x + self.feedforward(x)\n",
    "        return x\n"
   ]
  },
  {
   "cell_type": "code",
   "execution_count": 250,
   "metadata": {},
   "outputs": [
    {
     "name": "stdout",
     "output_type": "stream",
     "text": [
      "#params: 526720\n",
      "torch.Size([1, 16, 128])\n"
     ]
    }
   ],
   "source": [
    "# test model\n",
    "block = LlamaBlock(network_config, 128, 8).to(device)\n",
    "x = torch.randn(1, 16, 128).to(device)\n",
    "out = block(x)\n",
    "print(out.shape)\n"
   ]
  },
  {
   "cell_type": "code",
   "execution_count": 251,
   "metadata": {},
   "outputs": [],
   "source": [
    "from collections import OrderedDict\n",
    "class Llama(nn.Module):\n",
    "    def __init__(self, network_config, vocab_size, embed_dim, num_heads, num_layers):\n",
    "        super().__init__()\n",
    "        self.embeddings = nn.Embedding(vocab_size, embed_dim)\n",
    "        self.llama_blocks = nn.Sequential(\n",
    "            OrderedDict([\n",
    "                (f\"llama_{i}\", LlamaBlock(network_config, embed_dim, num_heads)) for i in range(num_layers)])\n",
    "        )\n",
    "        self.ffn = nn.Sequential(\n",
    "            nn.Linear(embed_dim, embed_dim),\n",
    "            SwiGLU(embed_dim, embed_dim * 4),\n",
    "            nn.Linear(embed_dim, embed_dim)\n",
    "        )\n",
    "        self.lm_head = nn.Linear(embed_dim, vocab_size)\n",
    "        print(f\"#params: {sum(p.numel() for p in self.parameters())}\")\n",
    "    def forward(self, x, target=None):\n",
    "        x = self.embeddings(x)\n",
    "        x = self.llama_blocks(x)\n",
    "        x = self.ffn(x)\n",
    "        logits = self.lm_head(x)\n",
    "        if target is not None:\n",
    "            loss = nn.CrossEntropyLoss()(logits.view(-1, logits.size(-1)), target.view(-1))\n",
    "            return logits, loss\n",
    "        return logits\n"
   ]
  },
  {
   "cell_type": "code",
   "execution_count": 252,
   "metadata": {},
   "outputs": [
    {
     "name": "stdout",
     "output_type": "stream",
     "text": [
      "#params: 526720\n",
      "#params: 526720\n",
      "#params: 526720\n",
      "#params: 526720\n",
      "#params: 526720\n",
      "#params: 526720\n",
      "#params: 526720\n",
      "#params: 526720\n",
      "#params: 4521644\n"
     ]
    }
   ],
   "source": [
    "llama = Llama(network_config, tokenizer.vocab_size, 128, 8, 8).to(device)"
   ]
  },
  {
   "cell_type": "code",
   "execution_count": 253,
   "metadata": {},
   "outputs": [
    {
     "name": "stdout",
     "output_type": "stream",
     "text": [
      "epoch 0 loss: 5.701200485229492\n",
      "val loss: 5.708914756774902\n"
     ]
    },
    {
     "name": "stdout",
     "output_type": "stream",
     "text": [
      "epoch 100 loss: 5.686168670654297\n",
      "val loss: 5.679950714111328\n",
      "epoch 200 loss: 5.410778999328613\n",
      "val loss: 5.408322334289551\n",
      "epoch 300 loss: 4.397401332855225\n",
      "val loss: 4.7271199226379395\n",
      "epoch 400 loss: 4.2632575035095215\n",
      "val loss: 4.503233432769775\n",
      "epoch 500 loss: 4.277907371520996\n",
      "val loss: 4.210705280303955\n",
      "epoch 600 loss: 3.7614493370056152\n",
      "val loss: 4.015998840332031\n",
      "epoch 700 loss: 3.8014626502990723\n",
      "val loss: 4.033496379852295\n",
      "epoch 800 loss: 3.6706621646881104\n",
      "val loss: 3.8445723056793213\n",
      "epoch 900 loss: 3.671827554702759\n",
      "val loss: 3.804596424102783\n",
      "epoch 1000 loss: 3.679058074951172\n",
      "val loss: 3.68422269821167\n",
      "epoch 1100 loss: 3.406324625015259\n",
      "val loss: 3.699472427368164\n",
      "epoch 1200 loss: 3.319335699081421\n",
      "val loss: 3.8318545818328857\n",
      "epoch 1300 loss: 3.397737741470337\n",
      "val loss: 3.7272756099700928\n",
      "epoch 1400 loss: 3.484365224838257\n",
      "val loss: 3.710505962371826\n",
      "epoch 1500 loss: 3.2257540225982666\n",
      "val loss: 3.5425119400024414\n",
      "epoch 1600 loss: 3.4927406311035156\n",
      "val loss: 3.989027500152588\n",
      "epoch 1700 loss: 3.37164568901062\n",
      "val loss: 4.1160407066345215\n",
      "epoch 1800 loss: 3.0866076946258545\n",
      "val loss: 3.6343259811401367\n",
      "epoch 1900 loss: 3.033618450164795\n",
      "val loss: 3.6157383918762207\n",
      "epoch 2000 loss: 3.1991183757781982\n",
      "val loss: 3.537172794342041\n",
      "epoch 2100 loss: 3.0588784217834473\n",
      "val loss: 3.690598487854004\n",
      "epoch 2200 loss: 3.285658597946167\n",
      "val loss: 3.8125181198120117\n",
      "epoch 2300 loss: 3.057086706161499\n",
      "val loss: 4.474148750305176\n",
      "epoch 2400 loss: 3.0465292930603027\n",
      "val loss: 3.568093776702881\n",
      "epoch 2500 loss: 2.846876621246338\n",
      "val loss: 3.351830005645752\n",
      "epoch 2600 loss: 2.9180471897125244\n",
      "val loss: 2.8784244060516357\n",
      "epoch 2700 loss: 3.0143661499023438\n",
      "val loss: 4.729953289031982\n",
      "epoch 2800 loss: 2.8937692642211914\n",
      "val loss: 3.3857784271240234\n",
      "epoch 2900 loss: 3.0766119956970215\n",
      "val loss: 3.5561816692352295\n",
      "epoch 3000 loss: 3.0056748390197754\n",
      "val loss: 3.7789974212646484\n",
      "epoch 3100 loss: 2.9086709022521973\n",
      "val loss: 3.6720023155212402\n",
      "epoch 3200 loss: 2.78369402885437\n",
      "val loss: 3.3092870712280273\n",
      "epoch 3300 loss: 2.9668924808502197\n",
      "val loss: 3.433429718017578\n",
      "epoch 3400 loss: 2.8040432929992676\n",
      "val loss: 3.127680778503418\n",
      "epoch 3500 loss: 3.1395516395568848\n",
      "val loss: 3.871614933013916\n",
      "epoch 3600 loss: 3.1952006816864014\n",
      "val loss: 3.3423335552215576\n",
      "epoch 3700 loss: 3.220270872116089\n",
      "val loss: 3.1397650241851807\n",
      "epoch 3800 loss: 2.9907960891723633\n",
      "val loss: 3.0243852138519287\n",
      "epoch 3900 loss: 2.8237712383270264\n",
      "val loss: 3.1234612464904785\n",
      "epoch 4000 loss: 2.7109289169311523\n",
      "val loss: 3.771822690963745\n",
      "epoch 4100 loss: 2.5882089138031006\n",
      "val loss: 3.073550224304199\n",
      "epoch 4200 loss: 2.8085601329803467\n",
      "val loss: 3.36371111869812\n",
      "epoch 4300 loss: 3.0635595321655273\n",
      "val loss: 3.6205713748931885\n",
      "epoch 4400 loss: 2.8311381340026855\n",
      "val loss: 3.7747485637664795\n",
      "epoch 4500 loss: 2.7098326683044434\n",
      "val loss: 3.6039934158325195\n",
      "epoch 4600 loss: 2.930781126022339\n",
      "val loss: 3.1446797847747803\n",
      "epoch 4700 loss: 2.611485719680786\n",
      "val loss: 3.5997045040130615\n",
      "epoch 4800 loss: 2.9580469131469727\n",
      "val loss: 3.5109875202178955\n",
      "epoch 4900 loss: 2.7329654693603516\n",
      "val loss: 4.171065330505371\n",
      "epoch 5000 loss: 2.5598251819610596\n",
      "val loss: 2.9684619903564453\n",
      "epoch 5100 loss: 2.5781948566436768\n",
      "val loss: 3.491142511367798\n",
      "epoch 5200 loss: 2.5256094932556152\n",
      "val loss: 3.624185085296631\n",
      "epoch 5300 loss: 2.992922067642212\n",
      "val loss: 2.8549582958221436\n",
      "epoch 5400 loss: 2.5656957626342773\n",
      "val loss: 3.0648410320281982\n",
      "epoch 5500 loss: 2.821437358856201\n",
      "val loss: 2.800888776779175\n",
      "epoch 5600 loss: 2.777322292327881\n",
      "val loss: 3.9095242023468018\n",
      "epoch 5700 loss: 2.5464789867401123\n",
      "val loss: 3.6013104915618896\n",
      "epoch 5800 loss: 2.51786732673645\n",
      "val loss: 4.820706367492676\n",
      "epoch 5900 loss: 2.474067449569702\n",
      "val loss: 3.421661615371704\n",
      "epoch 6000 loss: 2.74442458152771\n",
      "val loss: 3.3366146087646484\n",
      "epoch 6100 loss: 2.6225225925445557\n",
      "val loss: 3.6982381343841553\n",
      "epoch 6200 loss: 2.7996344566345215\n",
      "val loss: 4.20049524307251\n",
      "epoch 6300 loss: 2.435508966445923\n",
      "val loss: 3.5692367553710938\n",
      "epoch 6400 loss: 2.6315457820892334\n",
      "val loss: 2.899606227874756\n",
      "epoch 6500 loss: 2.493852138519287\n",
      "val loss: 2.7136361598968506\n",
      "epoch 6600 loss: 2.5216689109802246\n",
      "val loss: 3.6121737957000732\n",
      "epoch 6700 loss: 2.8194174766540527\n",
      "val loss: 3.3589389324188232\n",
      "epoch 6800 loss: 2.819141149520874\n",
      "val loss: 3.4097917079925537\n",
      "epoch 6900 loss: 2.337787389755249\n",
      "val loss: 3.4470956325531006\n",
      "epoch 7000 loss: 2.652005672454834\n",
      "val loss: 3.438681125640869\n",
      "epoch 7100 loss: 2.6350767612457275\n",
      "val loss: 4.064889907836914\n",
      "epoch 7200 loss: 2.3409810066223145\n",
      "val loss: 3.001594066619873\n",
      "epoch 7300 loss: 2.7242276668548584\n",
      "val loss: 3.0310938358306885\n",
      "epoch 7400 loss: 2.4709272384643555\n",
      "val loss: 3.301922559738159\n",
      "epoch 7500 loss: 2.545560598373413\n",
      "val loss: 3.1637802124023438\n",
      "epoch 7600 loss: 2.3989365100860596\n",
      "val loss: 2.947009563446045\n",
      "epoch 7700 loss: 2.7536532878875732\n",
      "val loss: 3.7552359104156494\n",
      "epoch 7800 loss: 2.5036163330078125\n",
      "val loss: 4.62372350692749\n",
      "epoch 7900 loss: 2.423405647277832\n",
      "val loss: 3.05733585357666\n",
      "epoch 8000 loss: 2.556786298751831\n",
      "val loss: 3.7237377166748047\n",
      "epoch 8100 loss: 2.4425578117370605\n",
      "val loss: 4.090972900390625\n",
      "epoch 8200 loss: 2.3904082775115967\n",
      "val loss: 3.523735523223877\n",
      "epoch 8300 loss: 2.501873731613159\n",
      "val loss: 3.426496982574463\n",
      "epoch 8400 loss: 2.1769051551818848\n",
      "val loss: 3.281611442565918\n",
      "epoch 8500 loss: 2.3507983684539795\n",
      "val loss: 3.3318400382995605\n",
      "epoch 8600 loss: 2.6701035499572754\n",
      "val loss: 4.105870246887207\n",
      "epoch 8700 loss: 2.635305643081665\n",
      "val loss: 2.905104160308838\n",
      "epoch 8800 loss: 2.612997055053711\n",
      "val loss: 3.4081871509552\n",
      "epoch 8900 loss: 2.6259560585021973\n",
      "val loss: 2.5630428791046143\n",
      "epoch 9000 loss: 2.4541282653808594\n",
      "val loss: 3.2694849967956543\n",
      "epoch 9100 loss: 2.407059669494629\n",
      "val loss: 2.6686596870422363\n",
      "epoch 9200 loss: 2.4600865840911865\n",
      "val loss: 3.650088310241699\n",
      "epoch 9300 loss: 2.3537051677703857\n",
      "val loss: 3.3228347301483154\n",
      "epoch 9400 loss: 2.6178128719329834\n",
      "val loss: 3.2017059326171875\n",
      "epoch 9500 loss: 2.3990437984466553\n",
      "val loss: 2.6428849697113037\n",
      "epoch 9600 loss: 2.732849359512329\n",
      "val loss: 3.313995599746704\n",
      "epoch 9700 loss: 2.7310690879821777\n",
      "val loss: 2.9918856620788574\n",
      "epoch 9800 loss: 2.409424066543579\n",
      "val loss: 3.65525221824646\n",
      "epoch 9900 loss: 2.4706668853759766\n",
      "val loss: 3.0451807975769043\n",
      "train time: 399.3658790588379\n",
      "train loss: 2.3650169372558594\n"
     ]
    },
    {
     "data": {
      "image/png": "[encoded data removed]",
      "text/plain": [
       "<Figure size 640x480 with 1 Axes>"
      ]
     },
     "metadata": {},
     "output_type": "display_data"
    }
   ],
   "source": [
    "optimizer = torch.optim.Adam(llama.parameters(), lr=1e-5)\n",
    "train_loss, val_loss = train(llama, optimizer, network_config, epoch=10000, verbose=True)\n",
    "plt.plot(train_loss, label=\"train loss\")\n",
    "plt.plot(val_loss, label=\"val loss\")\n",
    "plt.legend()\n",
    "plt.show()"
   ]
  },
  {
   "cell_type": "code",
   "execution_count": 254,
   "metadata": {},
   "outputs": [
    {
     "name": "stdout",
     "output_type": "stream",
     "text": [
      "\u0000\u0000\u0000\u0000\u0000\u0000\u0000\u0000\u0000\u0000\u0000\u0000\u0000\u0000\u0000\u0000Mt lig for a goof t! had you to Saver ta—thent—A.\n",
      "\n",
      "Asive stiligher I wmd acom!\n",
      "\n",
      "  [_RIt in tof and to way.\n",
      "\n",
      "Mre cace youre ly I ta\n"
     ]
    }
   ],
   "source": [
    "print(generate(llama, network_config, tokenizer))"
   ]
  },
  {
   "cell_type": "code",
   "execution_count": 255,
   "metadata": {},
   "outputs": [
    {
     "name": "stdout",
     "output_type": "stream",
     "text": [
      "tensor(5.0563, device='cuda:0', grad_fn=<NllLossBackward0>)\n"
     ]
    }
   ],
   "source": [
    "xs, ys = get_batch(dataset, **network_config, split=\"test\")\n",
    "logits, loss = llama(xs, ys)\n",
    "print(loss)"
   ]
  },
  {
   "cell_type": "code",
   "execution_count": null,
   "metadata": {},
   "outputs": [],
   "source": []
  }
 ],
 "metadata": {
  "kernelspec": {
   "display_name": "torch",
   "language": "python",
   "name": "python3"
  },
  "language_info": {
   "codemirror_mode": {
    "name": "ipython",
    "version": 3
   },
   "file_extension": ".py",
   "mimetype": "text/x-python",
   "name": "python",
   "nbconvert_exporter": "python",
   "pygments_lexer": "ipython3",
   "version": "3.9.18"
  }
 },
 "nbformat": 4,
 "nbformat_minor": 2
}
